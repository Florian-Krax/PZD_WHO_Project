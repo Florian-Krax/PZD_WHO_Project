{
 "cells": [
  {
   "cell_type": "markdown",
   "metadata": {},
   "source": [
    "# WHO Air quality database"
   ]
  },
  {
   "cell_type": "markdown",
   "metadata": {},
   "source": [
    "## Imports"
   ]
  },
  {
   "cell_type": "code",
   "execution_count": null,
   "metadata": {},
   "outputs": [],
   "source": [
    "import pandas as pd\n",
    "import numpy as np\n",
    "import matplotlib.pyplot as plt\n",
    "import scipy as sp\n",
    "import re\n",
    "import itertools as itools\n",
    "from scipy import stats"
   ]
  },
  {
   "cell_type": "markdown",
   "metadata": {},
   "source": [
    "## Prepare Data"
   ]
  },
  {
   "cell_type": "code",
   "execution_count": null,
   "metadata": {
    "tags": []
   },
   "outputs": [],
   "source": [
    "def Trim_Region(value : str)->str:\n",
    "    r\"\"\"\n",
    "    summary:\n",
    "        remove LMIC, HIC, and Sub-Saharan\n",
    "    \"\"\"\n",
    "    return re.sub('\\s*(\\(HIC\\)|\\(LMIC\\)|\\(Sub-Saharan\\))', '', value)\n",
    "\n",
    "\n",
    "def CalculateValues(orgvalue)->int:\n",
    "    strvalue = str(orgvalue)\n",
    "    match = re.match(r'\\((\\d+)\\)-converted value', strvalue)\n",
    "    if match:\n",
    "        return int(match.group(1))\n",
    "    return int(strvalue)\n",
    "\n",
    "def GetIncome(Region : str)->str:\n",
    "    return re.match('.+\\((\\w+)\\)$', str(Region)).group(1)\n",
    "\n",
    "def GetStationCount(value: str)->int:\n",
    "    count = 0\n",
    "    strvalue = str(value)\n",
    "    for match in re.findall(r'(\\d+)\\s+\\D+', strvalue):\n",
    "        count += int(match)\n",
    "    return count\n",
    "\n",
    "def ChangeCountryName(country)->str:\n",
    "    if country == 'Bolivia, Plurinational States of':\n",
    "        return 'Bolivia'\n",
    "    elif country == 'Iran (Islamic Republic of)':\n",
    "        return 'Iran'\n",
    "    elif country == 'The former Yugoslav Republic of Macedonia':\n",
    "        return 'Macedonia'\n",
    "    elif country == 'Russian Federation':\n",
    "        return 'Russia'\n",
    "    elif country == 'United Republic of Tanzania':\n",
    "        return 'Tanzania'\n",
    "    elif country == 'Venezuela, Bolivarian Republic of':\n",
    "        return 'Venezuela'\n",
    "    elif country == 'Viet Nam':\n",
    "        return 'Vietnam'\n",
    "    else:\n",
    "        return country\n",
    "\n",
    "\n",
    "data = pd.read_csv('database.csv', sep=';', skiprows=2)\n",
    "data = data.drop(['status', 'Database version (year)', 'Reference for air quality', 'iso3'], axis = 1)\n",
    "\n",
    "data['Income'] = [GetIncome(value) for value in data.Region]\n",
    "data['Region'] = [Trim_Region(value) for value in data.Region]\n",
    "data['Stationcount'] = [GetStationCount(value) for value in data['Number and type of monitoring stations']]\n",
    "data['Country'] = [ChangeCountryName(value) for value in data.Country]\n",
    "data = data.rename(columns={'City/Town' : 'City'})\n",
    "\n",
    "pm10data= data.filter(['Region', 'Country', 'City', 'Year', 'Annual mean, ug/m3', 'Temporal coverage', 'note on converted PM10', 'Stationcount', 'Income'], axis=1)\n",
    "pm10data['Converted'] = pm10data['note on converted PM10'].str.contains(\"Converted\")\n",
    "pm10data['Value'] = [CalculateValues(value) for value in pm10data['Annual mean, ug/m3']]\n",
    "pm10data = pm10data.drop(['note on converted PM10', 'Annual mean, ug/m3'], axis = 1)\n",
    "pm10data = pm10data.rename(columns={ 'Temporal coverage' : 'Coverage'})\n",
    "\n",
    "\n",
    "pm25data= data.filter(['Region', 'Country', 'City', 'Year', 'Annual mean, ug/m3.1', 'Temporal coverage.1', 'note on converted PM2.5', 'Stationcount', 'Income'], axis=1)\n",
    "pm25data= pm25data.rename(columns={ 'Temporal coverage.1' : 'Coverage'})\n",
    "pm25data['Converted'] = pm25data['note on converted PM2.5'].str.contains(\"Converted\")\n",
    "pm25data['Value'] = [CalculateValues(value) for value in pm25data['Annual mean, ug/m3.1']]\n",
    "pm25data = pm25data.drop(['note on converted PM2.5', 'Annual mean, ug/m3.1'], axis = 1)\n",
    "\n",
    "pm10data.head()"
   ]
  },
  {
   "cell_type": "markdown",
   "metadata": {},
   "source": [
    "## Get Country and City Information"
   ]
  },
  {
   "cell_type": "code",
   "execution_count": null,
   "metadata": {},
   "outputs": [],
   "source": [
    "\n",
    "_countries = np.zeros(0)\n",
    "\n",
    "def GetCountries()->list:\n",
    "    global _countries\n",
    "    if len(_countries) == 0:\n",
    "        _countries = data.Country.unique()\n",
    "    return _countries\n",
    "_cities = np.zeros(0)\n",
    "def GetCities()->list:\n",
    "    global _cities\n",
    "    if len(_cities) == 0:\n",
    "        _cities = data.City.unique()\n",
    "    return _cities\n",
    "def GetCitiesOfCountry(country: str)->np.ndarray:\n",
    "    return data.loc[data.Country == country].City.unique()\n",
    "\n",
    "def GetDataForCountry(country: str)->tuple:\n",
    "    return pm10data.loc[pm10data.Country == country], pm25data.loc[pm25data.Country == country]\n",
    "\n",
    "def GetDataForCity(City: str, GetPM10 = True, GetPM25 = True)->tuple:\n",
    "    if GetPM10 and GetPM25:\n",
    "        return pm10data.loc[pm10data.City == City], pm25data.loc[pm25data.City == City]\n",
    "    elif GetPM10:\n",
    "        return pm10data.loc[pm10data.City == City]\n",
    "    elif GetPM25:\n",
    "        return pm25data.loc[pm25data.City == City]\n",
    "\n",
    "\n",
    "GetCountries()"
   ]
  },
  {
   "cell_type": "markdown",
   "metadata": {},
   "source": [
    "### Statistics for Country"
   ]
  },
  {
   "cell_type": "code",
   "execution_count": null,
   "metadata": {
    "tags": []
   },
   "outputs": [],
   "source": [
    "tablewidth = 80\n",
    "\n",
    "def PrintHeader(country: str):\n",
    "    headerstr = GetHeaderString(country)\n",
    "    length = len(headerstr)\n",
    "    PrintHashtagLine(length)\n",
    "    print(headerstr)\n",
    "    PrintHashtagLine(length)\n",
    "\n",
    "def GetHeaderString(country: str)->str:\n",
    "    return '# Information for %s #' % country\n",
    "\n",
    "def PrintHashtagLine(length: str):\n",
    "    print(''.join(itools.repeat('#', length)))\n",
    "\n",
    "def PrintNumberOfCities(data: pd.DataFrame):\n",
    "    print('Cities: %9d' % len(data.City.unique()))\n",
    "\n",
    "def PrintYear(data: pd.DataFrame)->np.ndarray:\n",
    "    years = data.Year.unique()\n",
    "    print('No. of years: %3d' % len(years))\n",
    "    print('First year:  %d' % min(years))\n",
    "    print('Last year:   %d' % max(years))\n",
    "    return np.sort(years)\n",
    "\n",
    "def PrintEmptyLine():\n",
    "    print(''.join(itools.repeat('-', linelength)))\n",
    "\n",
    "def PrintTableLine():\n",
    "    print('------+-------+-------+-----------------+-------+-----------------+-------------')\n",
    "\n",
    "def PrintTableHeader(limit = 40):\n",
    "    print('      | Count |           Min           |           Max           | Limit (%dug)' % limit)\n",
    "\n",
    "def GetWhitespace(length: int)->str:\n",
    "    return (('%%%ds' % length) % '')\n",
    "\n",
    "def GetDashLine(length: int)->str:\n",
    "    return ''.join(itools.repeat('-', length))\n",
    "\n",
    "def PrintTableTitle(header: str):\n",
    "    headerlength = len(header) + 14\n",
    "    whitespacelength = (tablewidth - headerlength) / 2\n",
    "    whitespace = GetWhitespace(whitespacelength)\n",
    "    dashedline = GetDashLine(headerlength)\n",
    "    print('%s%s' % (whitespace, dashedline))\n",
    "    print('%s--     %s     --' % (whitespace, header))\n",
    "    print('%s%s' % (whitespace, dashedline))\n",
    "\n",
    "\n",
    "def PrintSingleStatic(data: pd.DataFrame, years: np.ndarray, header = 'PM10', limit = 40, measuredonly = True):\n",
    "    if measuredonly:\n",
    "        data = data.loc[data.Converted == False]\n",
    "    \n",
    "    if len(data)== 0:\n",
    "        return\n",
    "\n",
    "    PrintTableTitle(header)\n",
    "    print()\n",
    "    PrintTable(data, years, limit)\n",
    "\n",
    "def PrintTable(data, years, limit):\n",
    "    PrintTableHeader(limit)\n",
    "    PrintYearStatistic(data, 'total', limit)\n",
    "    for year in years:\n",
    "        PrintYearStatistic(data.loc[data.Year == year], str(year), limit)\n",
    "    PrintTableLine()\n",
    "\n",
    "\n",
    "def PrintYearStatistic(data: pd.DataFrame, year : str, limit):\n",
    "    if len(data) > 0:\n",
    "        count = len(data)\n",
    "        minvalue = min(data.Value)\n",
    "        maxvalue = max(data.Value)\n",
    "        mincities = data.loc[data.Value == minvalue].City.unique()\n",
    "        maxcities = data.loc[data.Value == maxvalue].City.unique()\n",
    "        limitcities = len(data.loc[data.Value > limit].City.unique())\n",
    "        totalcities = len(data.City.unique())\n",
    "        PrintTableLine()\n",
    "\n",
    "        for yearval, countval, minval, mincity, maxval, maxcity, limit in itools.zip_longest(['%5s' % year], ['%5d' % count], ['%5d' % minvalue], mincities, ['%5d' % maxvalue], maxcities, ['%3d/%3d' % (limitcities, totalcities)], fillvalue='     '):\n",
    "            if(len(mincity) > 15):\n",
    "                mincity = mincity[0:15]\n",
    "            if(len(maxcity) > 15):\n",
    "                maxcity = maxcity[0:15]\n",
    "            print('%s | %s | %s | %15s | %s | %15s | %10s' % (yearval, countval, minval, mincity, maxval, maxcity, limit))\n",
    "\n",
    "    \n",
    "\n",
    "\n",
    "def PrintStatistics(country: str, measuredonly = True):\n",
    "    if country in GetCountries():\n",
    "        _PrintStatistics(country, measuredonly)\n",
    "    else:\n",
    "        print('No data found for %s' % country)\n",
    "\n",
    "def _PrintStatistics(country: str, measuredonly = True):\n",
    "    PrintHeader(country)\n",
    "    print()\n",
    "    pm10, pm25 = GetDataForCountry(country)\n",
    "    PrintNumberOfCities(pm10)\n",
    "    years = PrintYear(pm10)\n",
    "    PrintSingleStatic(pm10, years)\n",
    "    print()\n",
    "    PrintSingleStatic(pm25, years, header='PM2.5', limit = 25, measuredonly=measuredonly)"
   ]
  },
  {
   "cell_type": "code",
   "execution_count": null,
   "metadata": {
    "tags": []
   },
   "outputs": [],
   "source": [
    "PrintStatistics('Russia', False)"
   ]
  },
  {
   "cell_type": "markdown",
   "metadata": {},
   "source": [
    "### Plot values and regression"
   ]
  },
  {
   "cell_type": "code",
   "execution_count": null,
   "metadata": {
    "tags": []
   },
   "outputs": [],
   "source": [
    "def _ShowRegression(xvalues, yvalues, color, header):\n",
    "    slope, intercept, *rest = stats.stats.linregress(xvalues, yvalues)\n",
    "    plt.plot(xvalues, yvalues, 'x', c=color)\n",
    "    plt.plot(xvalues, intercept + xvalues * slope, c=color, label=header)\n",
    "\n",
    "def PlotValue(data, color, header):\n",
    "    xvalues = data.Year.values\n",
    "    yvalues = data.Value.values\n",
    "    _ShowRegression(xvalues, yvalues, color, header)\n",
    "\n",
    "def PlotBoth(city: str):\n",
    "    if city in GetCities():\n",
    "        pm10, pm25 = GetDataForCity(city)\n",
    "        if len(pm10) > 0:\n",
    "            PlotValue(pm10, 'r', 'PM10')\n",
    "        if len(pm25) > 0:\n",
    "            PlotValue(pm25, 'b', 'PM2.5')\n",
    "        plt.legend()\n",
    "        plt.show()\n",
    "    else:\n",
    "        print('No data found for %s' % city)\n",
    "\n",
    "PlotBoth('Shijiazhuang')"
   ]
  },
  {
   "cell_type": "code",
   "execution_count": null,
   "metadata": {},
   "outputs": [],
   "source": [
    "def PlotCity(city: str, color, UsePM10):\n",
    "    data = GetDataForCity(city, UsePM10, not UsePM10)\n",
    "    if len(data) > 0:\n",
    "        _ShowRegression(data.Year.values, data.Value.values, color, city)\n",
    "\n",
    "def PlotMultiCities(cities:list, color:list, UsePM10 = True):\n",
    "    for city, color in zip(cities, color):\n",
    "        PlotCity(city, color, UsePM10)\n",
    "    plt.legend()\n",
    "    plt.show()\n",
    "PlotMultiCities(['Bielefeld', 'Berlin', 'New York', 'Beijing'], ['r', 'b', 'g', 'c'], False)"
   ]
  },
  {
   "cell_type": "markdown",
   "metadata": {},
   "source": [
    "### Rank by regression"
   ]
  },
  {
   "cell_type": "code",
   "execution_count": null,
   "metadata": {
    "tags": []
   },
   "outputs": [],
   "source": [
    "def GetSlopeInterceptCity(city: str, usepm10, measuredonly, mindatapoints)->tuple:\n",
    "    data = GetDataForCity(city, usepm10, not usepm10)\n",
    "    if measuredonly:\n",
    "        data = data.loc[data.Converted == False]\n",
    "    if len(data) < mindatapoints:\n",
    "        return False, 0, 0, city, ''\n",
    "    else:\n",
    "        slope, intercept, *rest = stats.stats.linregress(data.Year.values, data.Value.values)\n",
    "        return True, slope, intercept, city, data.Country.values[0]\n",
    "\n",
    "def GetSlopeInterceptAll(usepm10, measuredonly, mindatapoints)->list:\n",
    "    return [(slope, intercept, city, country) for s, slope, intercept, city, country in _GetSlopeInterceptAll(usepm10, measuredonly, mindatapoints) if s]\n",
    "def _GetSlopeInterceptAll(usepm10, measuredonly, mindatapoints)->list:\n",
    "    return [GetSlopeInterceptCity(city, usepm10, measuredonly, mindatapoints) for city in GetCities()]\n",
    "\n",
    "def PrintSlopeRanking(UsePM10, MeasuredOnly, Reverse, count = 15):\n",
    "    print()\n",
    "    data = GetSlopeInterceptAll(UsePM10, MeasuredOnly, 3)\n",
    "    data.sort(key=lambda tup: tup[0], reverse=Reverse)\n",
    "    data = data[:count]\n",
    "    length = max([len('%s (%s)'  % (city, country)) for slope, intercept, city, country in data])\n",
    "    valuelength = max([len('%.2f' % slope) for slope, intercept, city, country in data])\n",
    "    numberlength = len(str(count))\n",
    "    format = '%%%dd. %%%ds %%%ds' % (numberlength, length, valuelength)\n",
    "    for i, cdata in enumerate(data):\n",
    "        strvalue = '%.2f' % (cdata[0])\n",
    "        print(format % (i+1, '%s (%s)'  % (cdata[2], cdata[3]), strvalue))\n",
    "\n",
    "PrintSlopeRanking(False, False, False)"
   ]
  },
  {
   "cell_type": "code",
   "execution_count": null,
   "metadata": {},
   "outputs": [],
   "source": []
  }
 ],
 "metadata": {
  "language_info": {
   "codemirror_mode": {
    "name": "ipython",
    "version": 3
   },
   "file_extension": ".py",
   "mimetype": "text/x-python",
   "name": "python",
   "nbconvert_exporter": "python",
   "pygments_lexer": "ipython3",
   "version": "3.7.6-final"
  },
  "orig_nbformat": 2,
  "kernelspec": {
   "name": "python3",
   "display_name": "Python 3"
  }
 },
 "nbformat": 4,
 "nbformat_minor": 2
}