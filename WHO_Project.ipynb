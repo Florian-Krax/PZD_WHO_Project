{
 "cells": [
  {
   "cell_type": "markdown",
   "metadata": {},
   "source": [
    "# WHO Air quality database"
   ]
  },
  {
   "cell_type": "markdown",
   "metadata": {},
   "source": [
    "## Imports"
   ]
  },
  {
   "cell_type": "code",
   "execution_count": 2,
   "metadata": {},
   "outputs": [],
   "source": [
    "import pandas as pd\n",
    "import numpy as np\n",
    "import matplotlib.pyplot as plt\n",
    "import scipy as sp\n",
    "import re"
   ]
  },
  {
   "cell_type": "markdown",
   "metadata": {},
   "source": [
    "## Prepare Data"
   ]
  },
  {
   "cell_type": "code",
   "execution_count": 94,
   "metadata": {
    "tags": []
   },
   "outputs": [],
   "source": [
    "def Trim_Region(value : str)->str:\n",
    "    r\"\"\"\n",
    "    summary:\n",
    "        remove LMIC, HIC, and Sub-Saharan\n",
    "    \"\"\"\n",
    "    return re.sub('\\s*(\\(HIC\\)|\\(LMIC\\)|\\(Sub-Saharan\\))', '', value)\n",
    "\n",
    "\n",
    "def CalculateValues(orgvalue)->int:\n",
    "    strvalue = str(orgvalue)\n",
    "    match = re.match(r'\\((\\d+)\\)-converted value', strvalue)\n",
    "    if match:\n",
    "        return int(match.group(1))\n",
    "    return int(strvalue)\n",
    "def GetIncome(Region : str)->str:\n",
    "    return re.match('.+\\((\\w+)\\)$', str(Region)).group(1)\n",
    "\n",
    "\n",
    "data = pd.read_csv('database.csv', sep=';', skiprows=2)\n",
    "data = data.drop(['status', 'Database version (year)', 'Reference for air quality', 'iso3'], axis = 1)\n",
    "\n",
    "data['Income'] = [GetIncome(value) for value in data.Region]\n",
    "data['Region'] = [Trim_Region(value) for value in data.Region]\n",
    "\n",
    "pm10data= data.filter(['Region', 'Country', 'City/Town', 'Year', 'Annual mean, ug/m3', 'Temporal coverage', 'note on converted PM10', 'Number and type of monitoring stations', 'Income'], axis=1)\n",
    "pm25data= data.filter(['Region', 'Country', 'City/Town', 'Year', 'Annual mean, ug/m3.1', 'Temporal coverage.1', 'note on converted PM2.5', 'Number and type of monitoring stations', 'Income'], axis=1)\n",
    "pm25data= pm25data.rename(columns={ 'Temporal coverage.1' : 'Temporal coverage'})\n",
    "pm10data['Convered'] = pm10data['note on converted PM10'].str.contains(\"Converted\")\n",
    "pm10data['Value'] = [CalculateValues(value) for value in pm10data['Annual mean, ug/m3']]\n",
    "pm10data = pm10data.drop(['note on converted PM10', 'Annual mean, ug/m3'], axis = 1)\n",
    "pm25data['Convered'] = pm25data['note on converted PM2.5'].str.contains(\"Converted\")\n",
    "pm25data['Value'] = [CalculateValues(value) for value in pm25data['Annual mean, ug/m3.1']]\n",
    "pm25data = pm25data.drop(['note on converted PM2.5', 'Annual mean, ug/m3.1'], axis = 1)"
   ]
  },
  {
   "cell_type": "markdown",
   "metadata": {},
   "source": [
    "## Get Country and City Information"
   ]
  },
  {
   "cell_type": "code",
   "execution_count": 104,
   "metadata": {},
   "outputs": [],
   "source": [
    "def GetCountries()->list:\n",
    "    return data.Country.unique()\n",
    "\n",
    "def GetCities()->list:\n",
    "    return data['City/Town'].unique()"
   ]
  },
  {
   "cell_type": "code",
   "execution_count": 105,
   "metadata": {},
   "outputs": [
    {
     "output_type": "execute_result",
     "data": {
      "text/plain": "4468"
     },
     "metadata": {},
     "execution_count": 105
    }
   ],
   "source": [
    "len(GetCities())"
   ]
  },
  {
   "cell_type": "code",
   "execution_count": null,
   "metadata": {},
   "outputs": [],
   "source": []
  }
 ],
 "metadata": {
  "language_info": {
   "codemirror_mode": {
    "name": "ipython",
    "version": 3
   },
   "file_extension": ".py",
   "mimetype": "text/x-python",
   "name": "python",
   "nbconvert_exporter": "python",
   "pygments_lexer": "ipython3",
   "version": "3.7.6-final"
  },
  "orig_nbformat": 2,
  "kernelspec": {
   "name": "python3",
   "display_name": "Python 3"
  }
 },
 "nbformat": 4,
 "nbformat_minor": 2
}